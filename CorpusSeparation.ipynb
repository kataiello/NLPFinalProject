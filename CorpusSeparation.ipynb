{
 "cells": [
  {
   "cell_type": "code",
   "execution_count": null,
   "metadata": {
    "collapsed": true
   },
   "outputs": [],
   "source": [
    "import indicoio\n",
    "indicoio.config.api_key = '149f9ae92d07db56fdd024bb5154f11a'\n",
    "\n",
    "'''# single example\n",
    "indicoio.sentiment_hq(\"I love writing code!\")\n",
    "\n",
    "# batch example\n",
    "indicoio.sentiment_hq([\n",
    "    \"I love writing code!\",\n",
    "    \"Alexander and the Terrible, Horrible, No Good, Very Bad Day\"\n",
    "])\n",
    "'''"
   ]
  },
  {
   "cell_type": "code",
   "execution_count": null,
   "metadata": {
    "collapsed": true
   },
   "outputs": [],
   "source": []
  },
  {
   "cell_type": "code",
   "execution_count": null,
   "metadata": {
    "collapsed": true
   },
   "outputs": [],
   "source": [
    "#assume I have an array of processed tweets about Clinton and Trump called\n",
    "#clintonTweets and trumpTweets\n",
    "clintonSentiment = indicoio.sentiment_hq(clintonTweets)\n",
    "trumpSentiment = indicoio.sentiment_hq(trumpTweets)"
   ]
  },
  {
   "cell_type": "code",
   "execution_count": null,
   "metadata": {
    "collapsed": true
   },
   "outputs": [],
   "source": [
    "proClinton = {}\n",
    "proTrump = {}\n",
    "\n",
    "#greater than 0.7 is pro, less than 0.3 is against\n",
    "for i in range(0, len(clintonTweets)):\n",
    "    if clintonSentiment[i] > 0.7:\n",
    "        proClinton.append(clintonTweets[i], clintonSentiment[i])\n",
    "    elif clintonSentiment[i] < 0.3:\n",
    "        proTrump.append(clintonTweets[i], clintonSentiment[i])\n",
    "        \n",
    "for i in range(0, len(clintonTweets)):\n",
    "    if trumpSentiment[i] > 0.7:\n",
    "        proTrump.append(trumpTweets[i], trumpSentiment[i])\n",
    "    elif trumpSentiment[i] < 0.3:\n",
    "        proClinton.append(trumpTweets[i], trumpSentiment[i])"
   ]
  }
 ],
 "metadata": {
  "kernelspec": {
   "display_name": "Python 3",
   "language": "python",
   "name": "python3"
  },
  "language_info": {
   "codemirror_mode": {
    "name": "ipython",
    "version": 3
   },
   "file_extension": ".py",
   "mimetype": "text/x-python",
   "name": "python",
   "nbconvert_exporter": "python",
   "pygments_lexer": "ipython3",
   "version": "3.6.0"
  }
 },
 "nbformat": 4,
 "nbformat_minor": 2
}
