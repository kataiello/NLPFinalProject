{
 "cells": [
  {
   "cell_type": "code",
   "execution_count": 1,
   "metadata": {
    "collapsed": false
   },
   "outputs": [
    {
     "data": {
      "text/plain": [
       "'# single example\\nindicoio.sentiment_hq(\"I love writing code!\")\\n\\n# batch example\\nindicoio.sentiment_hq([\\n    \"I love writing code!\",\\n    \"Alexander and the Terrible, Horrible, No Good, Very Bad Day\"\\n])\\n'"
      ]
     },
     "execution_count": 1,
     "metadata": {},
     "output_type": "execute_result"
    }
   ],
   "source": [
    "import indicoio\n",
    "indicoio.config.api_key = '149f9ae92d07db56fdd024bb5154f11a'\n",
    "\n",
    "'''# single example\n",
    "indicoio.sentiment_hq(\"I love writing code!\")\n",
    "\n",
    "# batch example\n",
    "indicoio.sentiment_hq([\n",
    "    \"I love writing code!\",\n",
    "    \"Alexander and the Terrible, Horrible, No Good, Very Bad Day\"\n",
    "])\n",
    "'''"
   ]
  },
  {
   "cell_type": "code",
   "execution_count": 15,
   "metadata": {
    "collapsed": false
   },
   "outputs": [
    {
     "data": {
      "text/plain": [
       "['<start> is right trump would increase debt much more than clinton <end>',\n",
       " '<start> hillary clinton s uninformed know that hillary has taken massive bribes from drugs companies to price gou <end>',\n",
       " '<start> hillary clinton s economic plan would send our economy into a tailspin <end>',\n",
       " '<start> do you want a you re hired president in hillary clinton or do you want a you re fired president in donald trump <end>',\n",
       " '<start> proud of clinton foundation life saving work if only would disclose info about type of work h <end>',\n",
       " '<start> clintons stole 94 of the donations to that country thru the clinton foundation l <end>',\n",
       " '<start> pence claimed clinton s plans would raise the debt more than trump s no <end>',\n",
       " '<start> if past voting records are fair game how about clinton s previous stances on the iraq war and gay marriage <end>',\n",
       " '<start> there are 359 000 more black voters in battleground states than in 2012 there are 660 000 more latino voters <end>',\n",
       " '<start> kaine says his family trusts clinton as commander in chief the thought of trump in the role scared us to death <end>',\n",
       " '<start> i ve got a question tim should hillary clinton face consequences for mishandling classified information h <end>',\n",
       " '<start> hillary clinton s lawlessness and criminality in its enormity makes nixon look like a rookie <end>',\n",
       " '<start> i m beginning to believe tim kaine s debate strategy is to make hillary clinton likable compared to him <end>',\n",
       " '<start> trump in arizona with a new twist to his tax return defense why didn t clinton do more as senator to stop people like me <end>',\n",
       " '<start> pence referring to my voting record is just another clinton scare tactic <end>',\n",
       " '<start> i m beginning to believe tim kaine s debate strategy is to make hillary clinton likable compared to him <end>',\n",
       " '<start> tim kaine talking over pence just makes him look unlikable just like hillary clinton scum bag characteristics <end>',\n",
       " '<start> trump and pence framing the clinton campaign for being one based on scare tactics is the most hypocritical thing i ve ever seen <end>',\n",
       " '<start> question how many private sector jobs has hillary clinton created answer zero except for fbi and doj <end>',\n",
       " '<start> i m so shocked that trump fans think kaine is losing and clinton fans think pence is a dick <end>',\n",
       " '<start> tim kaine talking over pence just makes him look unlikable just like hillary clinton scum bag characteristics <end>',\n",
       " '<start> in his first 15 mins pence has hit obamacare coal country clinton foundation national debt syria iraq more tha <end>',\n",
       " '<start> i wish it were marco rubio jeb bush paul ryan debating hillary clinton we don t always get what we want <end>',\n",
       " '<start> the american people are tired of the spin by clinton kaine re economy truth is millions more in poverty stagnant wages <end>']"
      ]
     },
     "execution_count": 15,
     "metadata": {},
     "output_type": "execute_result"
    }
   ],
   "source": [
    "import re\n",
    "import string\n",
    "\n",
    "with open('hillaryTweetsTest.txt') as f:\n",
    "    hillText = f.read()\n",
    "    \n",
    "hillLines = hillText.split('\\n')\n",
    "clintonTweets = []\n",
    "\n",
    "for line in hillLines:\n",
    "    \n",
    "    #remove @usernames, #hashtags, RTs, links\n",
    "    result = re.sub(r\"(?:@\\S*|#\\S*|RT|http\\S*)\", \"\", line)\n",
    "    #set all letters to lowercase\n",
    "    result = result.lower()\n",
    "    #substitute all punctuation with a space\n",
    "    result = re.sub(r\"[^\\w\\s]\",' ',result)\n",
    "    result = re.sub(' +', ' ', result)\n",
    "    result = result.strip()\n",
    "    if result != '':\n",
    "        result = \"<start> \" + result + \" <end>\"\n",
    "        clintonTweets.append(result)\n",
    "    #line.join(re.sub(\"(@[A-Za-z0-9]+)|(#[A-Za-z0-9]+)|(https[^ ]+)\",\" \",x).split())\n",
    "clintonTweets"
   ]
  },
  {
   "cell_type": "code",
   "execution_count": 16,
   "metadata": {
    "collapsed": false
   },
   "outputs": [],
   "source": [
    "#assume I have an array of processed tweets about Clinton and Trump called\n",
    "#clintonTweets and trumpTweets\n",
    "clintonSentiment = indicoio.sentiment_hq(clintonTweets)\n",
    "#trumpSentiment = indicoio.sentiment_hq(trumpTweets)"
   ]
  },
  {
   "cell_type": "code",
   "execution_count": 24,
   "metadata": {
    "collapsed": false
   },
   "outputs": [
    {
     "data": {
      "text/plain": [
       "'        \\nfor i in range(0, len(clintonTweets)):\\n    if trumpSentiment[i] > 0.7:\\n        proTrump.append(trumpTweets[i], trumpSentiment[i])\\n    elif trumpSentiment[i] < 0.3:\\n        proClinton.append(trumpTweets[i], trumpSentiment[i])\\n'"
      ]
     },
     "execution_count": 24,
     "metadata": {},
     "output_type": "execute_result"
    }
   ],
   "source": [
    "proClinton = {}\n",
    "proTrump = {}\n",
    "\n",
    "#greater than 0.7 is pro, less than 0.3 is against\n",
    "for i in range(0, len(clintonTweets)):\n",
    "    if clintonSentiment[i] > 0.6:\n",
    "        proClinton[clintonTweets[i]] = clintonSentiment[i]\n",
    "    elif clintonSentiment[i] < 0.4:\n",
    "        proTrump[clintonTweets[i]] = clintonSentiment[i]\n",
    "'''        \n",
    "for i in range(0, len(clintonTweets)):\n",
    "    if trumpSentiment[i] > 0.7:\n",
    "        proTrump.append(trumpTweets[i], trumpSentiment[i])\n",
    "    elif trumpSentiment[i] < 0.3:\n",
    "        proClinton.append(trumpTweets[i], trumpSentiment[i])\n",
    "'''"
   ]
  },
  {
   "cell_type": "code",
   "execution_count": 25,
   "metadata": {
    "collapsed": false
   },
   "outputs": [
    {
     "name": "stdout",
     "output_type": "stream",
     "text": [
      "[0.6823045015, 0.1316068619, 0.4524738789, 0.265758425, 0.31857487560000003, 0.1845006496, 0.029162647200000003, 0.3475869596, 0.3574903309, 0.3143392503, 0.39360117910000003, 0.46901729700000006, 0.4756499529, 0.1430507302, 0.1159922481, 0.4756499529, 0.0348143168, 0.0665627122, 0.49779874090000004, 0.0500314273, 0.0348143168, 0.43506947160000004, 0.4244659543, 0.6150978804]\n"
     ]
    }
   ],
   "source": [
    "print (clintonSentiment)"
   ]
  },
  {
   "cell_type": "raw",
   "metadata": {},
   "source": []
  },
  {
   "cell_type": "code",
   "execution_count": 26,
   "metadata": {
    "collapsed": false
   },
   "outputs": [
    {
     "name": "stdout",
     "output_type": "stream",
     "text": [
      "{' is right. Trump would increase debt much more than Clinton.    ': 0.6823045015, 'The American people are tired of the spin by Clinton/Kaine re: economy. Truth is->millions more in poverty & stagnant wages': 0.6150978804}\n"
     ]
    }
   ],
   "source": [
    "print(proClinton)"
   ]
  },
  {
   "cell_type": "code",
   "execution_count": 27,
   "metadata": {
    "collapsed": false
   },
   "outputs": [
    {
     "name": "stdout",
     "output_type": "stream",
     "text": [
      "{'  Hillary Clinton\\'s \"uninformed\"  know that Hillary has taken massive bribes from drugs companies to price gou...': 0.1316068619, '  \"Do you want a You\\'re Hired president in Hillary Clinton, or do you want a You\\'re Fired president in Donald Trump?\" ': 0.265758425, '  . proud of Clinton Foundation life-saving work. If only  would disclose info about type of work h...': 0.31857487560000003, '     - CLINTONS STOLE 94% OF THE DONATIONS TO THAT COUNTRY THRU THE CLINTON FOUNDATION...;)L.': 0.1845006496, '\"  Pence claimed Clinton\\'s plans would raise the debt more than Trump\\'s. No.': 0.029162647200000003, \"If past voting records are fair game, how about Clinton's previous stances on the Iraq War and gay marriage? \": 0.3475869596, '  \"...there are 359,000 more black voters in battleground states than in 2012. There are 660,000 more Latino voters..\" https:...': 0.3574903309, '  Kaine says his family trusts Clinton as commander-in-chief; the thought of Trump in the role \"scared us to death.\" ': 0.3143392503, \"  I've got a question Tim...Should Hillary Clinton face consequences for mishandling classified information?  h...\": 0.39360117910000003, \"  Trump in Arizona with a...new twist to his tax return defense; Why didn't Clinton do more as senator to stop people like me?...\": 0.1430507302, 'Pence: Referring to my voting record is just another Clinton scare tactic.   ': 0.1159922481, '  Tim Kaine talking over Pence just makes him look unlikable just like Hillary Clinton. Scum bag characteristics': 0.0348143168, \"Trump and Pence framing the Clinton campaign for being one based on scare tactics is the most hypocritical thing I've ever seen. \": 0.0665627122, \"I'm so shocked that Trump fans think Kaine is losing and Clinton fans think Pence is a dick.\": 0.0500314273}\n"
     ]
    }
   ],
   "source": [
    "print(proTrump)"
   ]
  },
  {
   "cell_type": "code",
   "execution_count": null,
   "metadata": {
    "collapsed": true
   },
   "outputs": [],
   "source": []
  }
 ],
 "metadata": {
  "kernelspec": {
   "display_name": "Python 3",
   "language": "python",
   "name": "python3"
  },
  "language_info": {
   "codemirror_mode": {
    "name": "ipython",
    "version": 3
   },
   "file_extension": ".py",
   "mimetype": "text/x-python",
   "name": "python",
   "nbconvert_exporter": "python",
   "pygments_lexer": "ipython3",
   "version": "3.6.0"
  }
 },
 "nbformat": 4,
 "nbformat_minor": 2
}
